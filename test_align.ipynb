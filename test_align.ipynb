{
 "cells": [
  {
   "cell_type": "code",
   "execution_count": 1,
   "id": "3d568294-ea64-4bfd-bacf-277d3d1cd495",
   "metadata": {},
   "outputs": [],
   "source": [
    "import numpy as np\n",
    "import scanpy as sc\n",
    "from NovelGAN import Align_cell"
   ]
  },
  {
   "cell_type": "code",
   "execution_count": 2,
   "id": "e4636f03-c200-4f35-ade6-513e122f5466",
   "metadata": {},
   "outputs": [],
   "source": [
    "A = sc.read('../batch_data/PBMCA.h5ad')\n",
    "B = sc.read('../batch_data/PBMCB.h5ad')"
   ]
  },
  {
   "cell_type": "code",
   "execution_count": 3,
   "id": "a8903ffe-38de-40ac-b3a9-9b6c35429acf",
   "metadata": {},
   "outputs": [
    {
     "name": "stdout",
     "output_type": "stream",
     "text": [
      "Epoch:[400 /4000(10 %)]\t\tG_loss:2.120696\t\tD_loss:-0.526575\n",
      "Epoch:[800 /4000(20 %)]\t\tG_loss:2.010045\t\tD_loss:-0.625873\n",
      "Epoch:[1200/4000(30 %)]\t\tG_loss:1.957614\t\tD_loss:-0.621140\n",
      "Epoch:[1600/4000(40 %)]\t\tG_loss:1.910082\t\tD_loss:-0.612392\n",
      "Epoch:[2000/4000(50 %)]\t\tG_loss:1.867711\t\tD_loss:-0.605979\n",
      "Epoch:[2400/4000(60 %)]\t\tG_loss:1.843176\t\tD_loss:-0.601146\n",
      "Epoch:[2800/4000(70 %)]\t\tG_loss:1.828712\t\tD_loss:-0.597910\n",
      "Epoch:[3200/4000(80 %)]\t\tG_loss:1.833954\t\tD_loss:-0.596048\n",
      "Epoch:[3600/4000(90 %)]\t\tG_loss:1.843084\t\tD_loss:-0.595537\n",
      "Epoch:[4000/4000(100%)]\t\tG_loss:1.863040\t\tD_loss:-0.595674\n"
     ]
    }
   ],
   "source": [
    "model = Align_cell(n_epochs=4000, random_state=100)\n",
    "idx = model.fit(B, A)"
   ]
  },
  {
   "cell_type": "code",
   "execution_count": 4,
   "id": "da671ae8-805d-48ae-9181-669d8e8dced2",
   "metadata": {},
   "outputs": [],
   "source": [
    "A = np.array(A.obs.loc[idx['base_idx'], :])\n",
    "B = np.array(B.obs.loc[idx['input_idx'], :])"
   ]
  },
  {
   "cell_type": "code",
   "execution_count": 5,
   "id": "b9ba41fc-688f-40de-a7f2-74fdd5865869",
   "metadata": {},
   "outputs": [
    {
     "data": {
      "text/plain": [
       "0.8317535545023697"
      ]
     },
     "execution_count": 5,
     "metadata": {},
     "output_type": "execute_result"
    }
   ],
   "source": [
    "result = (A == B).reshape(-1)\n",
    "result.sum()/len(result)"
   ]
  }
 ],
 "metadata": {
  "kernelspec": {
   "display_name": "bioinfo",
   "language": "python",
   "name": "bioinfo"
  },
  "language_info": {
   "codemirror_mode": {
    "name": "ipython",
    "version": 3
   },
   "file_extension": ".py",
   "mimetype": "text/x-python",
   "name": "python",
   "nbconvert_exporter": "python",
   "pygments_lexer": "ipython3",
   "version": "3.9.15"
  }
 },
 "nbformat": 4,
 "nbformat_minor": 5
}
