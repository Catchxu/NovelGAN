{
 "cells": [
  {
   "cell_type": "code",
   "execution_count": null,
   "id": "ee1ea7e6-7e10-4279-afc1-96d054f26a57",
   "metadata": {},
   "outputs": [],
   "source": [
    "from benchmark.run_benchmark import cell_detect_bench\n",
    "\n",
    "data_cfg = {\n",
    "    'PBMC(SLE)': {\n",
    "        'data_path': './scdata/',\n",
    "        'info_path': './scdata/info.tsv'\n",
    "    }\n",
    "}\n",
    "\n",
    "method_cfg = {'NovelGan': 1}\n",
    "metrics = ['ARI', 'NMI']\n",
    "\n",
    "a, b = cell_detect_bench(\n",
    "    data_cfg, method_cfg, metrics, log_path='loguru.log', random_state=100\n",
    ")\n",
    "# rm_cache(\"./cache\")"
   ]
  },
  {
   "cell_type": "code",
   "execution_count": null,
   "id": "54b16cbc-909b-4a40-84d6-99fc2776c4d5",
   "metadata": {},
   "outputs": [],
   "source": [
    "from NovelGan import Detect_cell\n",
    "diff = Detect_cell(a.X, b.X)"
   ]
  },
  {
   "cell_type": "code",
   "execution_count": null,
   "id": "29ebfc9a-cfd1-48ba-99af-2514065fbfe1",
   "metadata": {},
   "outputs": [],
   "source": [
    "import anndata as ad\n",
    "import scanpy as sc"
   ]
  },
  {
   "cell_type": "code",
   "execution_count": null,
   "id": "64c3611f-bb21-45d1-ba37-ce0473e91ccd",
   "metadata": {},
   "outputs": [],
   "source": [
    "b.obs['diff'] = diff\n",
    "sc.tl.pca(b)\n",
    "sc.tl.tsne(b)\n",
    "sc.pl.tsne(b, color=['diff', 'cell.type'])"
   ]
  }
 ],
 "metadata": {
  "kernelspec": {
   "display_name": "",
   "name": ""
  },
  "language_info": {
   "name": ""
  }
 },
 "nbformat": 4,
 "nbformat_minor": 5
}
