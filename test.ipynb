{
 "cells": [
  {
   "cell_type": "code",
   "execution_count": 1,
   "id": "ee1ea7e6-7e10-4279-afc1-96d054f26a57",
   "metadata": {},
   "outputs": [
    {
     "name": "stderr",
     "output_type": "stream",
     "text": [
      "Warning message:\n",
      "package ‘methods’ was built under R version 4.2.3 \n",
      "During startup - There were 11 warnings (use warnings() to see them)\n"
     ]
    },
    {
     "data": {
      "text/html": [
       "<pre style=\"white-space:pre;overflow-x:auto;line-height:normal;font-family:Menlo,'DejaVu Sans Mono',consolas,'Courier New',monospace\"><span style=\"color: #00ff00; text-decoration-color: #00ff00\">──────────────────────────────────────────────────── </span><span style=\"color: #800000; text-decoration-color: #800000; font-weight: bold\">PBMC(SLE)</span><span style=\"color: #00ff00; text-decoration-color: #00ff00\"> ────────────────────────────────────────────────────</span>\n",
       "</pre>\n"
      ],
      "text/plain": [
       "\u001b[92m──────────────────────────────────────────────────── \u001b[0m\u001b[1;31mPBMC\u001b[0m\u001b[1;31m(\u001b[0m\u001b[1;31mSLE\u001b[0m\u001b[1;31m)\u001b[0m\u001b[92m ────────────────────────────────────────────────────\u001b[0m\n"
      ]
     },
     "metadata": {},
     "output_type": "display_data"
    },
    {
     "data": {
      "text/html": [
       "<pre style=\"white-space:pre;overflow-x:auto;line-height:normal;font-family:Menlo,'DejaVu Sans Mono',consolas,'Courier New',monospace\">Using cached adata and skip preprocessing. \n",
       "Shape: <span style=\"color: #808000; text-decoration-color: #808000; font-weight: bold\">13385</span> cells, <span style=\"color: #808000; text-decoration-color: #808000; font-weight: bold\">3000</span> genes.\n",
       "</pre>\n"
      ],
      "text/plain": [
       "Using cached adata and skip preprocessing. \n",
       "Shape: \u001b[1;33m13385\u001b[0m cells, \u001b[1;33m3000\u001b[0m genes.\n"
      ]
     },
     "metadata": {},
     "output_type": "display_data"
    }
   ],
   "source": [
    "from benchmark.run_benchmark import cell_detect_bench\n",
    "\n",
    "data_cfg = {\n",
    "    'PBMC(SLE)': {\n",
    "        'data_path': './scdata/',\n",
    "        'info_path': './scdata/info.tsv'\n",
    "    }\n",
    "}\n",
    "\n",
    "method_cfg = {'NovelGan': 1}\n",
    "metrics = ['ARI', 'NMI']\n",
    "\n",
    "a, b = cell_detect_bench(\n",
    "    data_cfg, method_cfg, metrics, log_path='loguru.log', random_state=100\n",
    ")\n",
    "# rm_cache(\"./cache\")"
   ]
  },
  {
   "cell_type": "code",
   "execution_count": null,
   "id": "54b16cbc-909b-4a40-84d6-99fc2776c4d5",
   "metadata": {},
   "outputs": [],
   "source": [
    "from NovelGan import Detect_cell\n",
    "diff = Detect_cell(a.X, b.X)"
   ]
  },
  {
   "cell_type": "code",
   "execution_count": null,
   "id": "29ebfc9a-cfd1-48ba-99af-2514065fbfe1",
   "metadata": {},
   "outputs": [],
   "source": [
    "import anndata as ad\n",
    "import scanpy as sc"
   ]
  },
  {
   "cell_type": "code",
   "execution_count": null,
   "id": "95e6b69f-bdd8-4148-8695-75c7e512bd7f",
   "metadata": {},
   "outputs": [],
   "source": []
  }
 ],
 "metadata": {
  "kernelspec": {
   "display_name": "bioinfo",
   "language": "python",
   "name": "bioinfo"
  },
  "language_info": {
   "codemirror_mode": {
    "name": "ipython",
    "version": 3
   },
   "file_extension": ".py",
   "mimetype": "text/x-python",
   "name": "python",
   "nbconvert_exporter": "python",
   "pygments_lexer": "ipython3",
   "version": "3.9.15"
  }
 },
 "nbformat": 4,
 "nbformat_minor": 5
}
